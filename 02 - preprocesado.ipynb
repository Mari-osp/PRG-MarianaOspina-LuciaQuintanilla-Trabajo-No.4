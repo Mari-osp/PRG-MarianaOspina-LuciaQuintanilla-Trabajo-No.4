{
 "cells": [
  {
   "cell_type": "code",
   "execution_count": 70,
   "metadata": {
    "colab": {
     "base_uri": "https://localhost:8080/"
    },
    "id": "RDBLtsZZ5IjF",
    "outputId": "6ed80f98-e755-475d-b09b-5d79d0edc71a"
   },
   "outputs": [
    {
     "name": "stdout",
     "output_type": "stream",
     "text": [
      "Requirement already satisfied: ucimlrepo in /usr/local/lib/python3.10/dist-packages (0.0.7)\n",
      "Requirement already satisfied: pandas>=1.0.0 in /usr/local/lib/python3.10/dist-packages (from ucimlrepo) (2.0.3)\n",
      "Requirement already satisfied: certifi>=2020.12.5 in /usr/local/lib/python3.10/dist-packages (from ucimlrepo) (2024.2.2)\n",
      "Requirement already satisfied: python-dateutil>=2.8.2 in /usr/local/lib/python3.10/dist-packages (from pandas>=1.0.0->ucimlrepo) (2.8.2)\n",
      "Requirement already satisfied: pytz>=2020.1 in /usr/local/lib/python3.10/dist-packages (from pandas>=1.0.0->ucimlrepo) (2023.4)\n",
      "Requirement already satisfied: tzdata>=2022.1 in /usr/local/lib/python3.10/dist-packages (from pandas>=1.0.0->ucimlrepo) (2024.1)\n",
      "Requirement already satisfied: numpy>=1.21.0 in /usr/local/lib/python3.10/dist-packages (from pandas>=1.0.0->ucimlrepo) (1.25.2)\n",
      "Requirement already satisfied: six>=1.5 in /usr/local/lib/python3.10/dist-packages (from python-dateutil>=2.8.2->pandas>=1.0.0->ucimlrepo) (1.16.0)\n"
     ]
    }
   ],
   "source": [
    "!pip install ucimlrepo"
   ]
  },
  {
   "cell_type": "code",
   "execution_count": 71,
   "metadata": {
    "colab": {
     "base_uri": "https://localhost:8080/"
    },
    "id": "MA6cxZEe4npC",
    "outputId": "7c427b1d-0a7f-4fbe-86a1-0d881485b42a"
   },
   "outputs": [
    {
     "name": "stderr",
     "output_type": "stream",
     "text": [
      "<ipython-input-71-b13931199993>:11: SettingWithCopyWarning: \n",
      "A value is trying to be set on a copy of a slice from a DataFrame.\n",
      "Try using .loc[row_indexer,col_indexer] = value instead\n",
      "\n",
      "See the caveats in the documentation: https://pandas.pydata.org/pandas-docs/stable/user_guide/indexing.html#returning-a-view-versus-a-copy\n",
      "  df[\"Target\"]=y[\"total_UPDRS\"]\n"
     ]
    }
   ],
   "source": [
    "import pandas as pd\n",
    "import numpy as np\n",
    "from ucimlrepo import fetch_ucirepo\n",
    "\n",
    "\n",
    "parkinsons_telemonitoring = fetch_ucirepo(id=189)\n",
    "\n",
    "\n",
    "df = parkinsons_telemonitoring.data.features\n",
    "y = parkinsons_telemonitoring.data.targets\n",
    "df[\"Target\"]=y[\"total_UPDRS\"]"
   ]
  },
  {
   "cell_type": "code",
   "execution_count": 72,
   "metadata": {
    "colab": {
     "base_uri": "https://localhost:8080/"
    },
    "id": "VCPlntPvIgy6",
    "outputId": "83d7490f-623d-4026-e155-674ba08abb4a"
   },
   "outputs": [
    {
     "data": {
      "text/plain": [
       "age              0\n",
       "test_time        0\n",
       "Jitter(%)        0\n",
       "Jitter(Abs)      0\n",
       "Jitter:RAP       0\n",
       "Jitter:PPQ5      0\n",
       "Jitter:DDP       0\n",
       "Shimmer          0\n",
       "Shimmer(dB)      0\n",
       "Shimmer:APQ3     0\n",
       "Shimmer:APQ5     0\n",
       "Shimmer:APQ11    0\n",
       "Shimmer:DDA      0\n",
       "NHR              0\n",
       "HNR              0\n",
       "RPDE             0\n",
       "DFA              0\n",
       "PPE              0\n",
       "sex              0\n",
       "Target           0\n",
       "dtype: int64"
      ]
     },
     "execution_count": 72,
     "metadata": {},
     "output_type": "execute_result"
    }
   ],
   "source": [
    "df.isnull().sum()"
   ]
  },
  {
   "cell_type": "code",
   "execution_count": 86,
   "metadata": {
    "id": "wTz3EIXrOIyD"
   },
   "outputs": [],
   "source": [
    "corr=df.corr()"
   ]
  },
  {
   "cell_type": "code",
   "execution_count": 87,
   "metadata": {
    "colab": {
     "base_uri": "https://localhost:8080/"
    },
    "id": "25FWW0DeOMee",
    "outputId": "b76eaadf-7705-45a5-8db0-bb7ef810cb16"
   },
   "outputs": [
    {
     "data": {
      "text/plain": [
       "HNR             -0.162117\n",
       "DFA             -0.113475\n",
       "sex             -0.096559\n",
       "NHR              0.060952\n",
       "Jitter:PPQ5      0.063352\n",
       "Jitter:RAP       0.064015\n",
       "Jitter:DDP       0.064027\n",
       "Jitter(Abs)      0.066926\n",
       "Jitter(%)        0.074247\n",
       "test_time        0.075263\n",
       "Shimmer:APQ3     0.079363\n",
       "Shimmer:DDA      0.079363\n",
       "Shimmer:APQ5     0.083467\n",
       "Shimmer          0.092141\n",
       "Shimmer(dB)      0.098790\n",
       "Shimmer:APQ11    0.120838\n",
       "PPE              0.156195\n",
       "RPDE             0.156897\n",
       "age              0.310290\n",
       "Target           1.000000\n",
       "Name: Target, dtype: float64"
      ]
     },
     "execution_count": 87,
     "metadata": {},
     "output_type": "execute_result"
    }
   ],
   "source": [
    "corr[\"Target\"].sort_values()"
   ]
  },
  {
   "cell_type": "code",
   "execution_count": null,
   "metadata": {
    "id": "DZUPosxSPy4J"
   },
   "outputs": [],
   "source": []
  },
  {
   "cell_type": "code",
   "execution_count": 90,
   "metadata": {
    "id": "KrkPoNUcFg8n"
   },
   "outputs": [],
   "source": [
    "#Eliminamos las variables con menor correlacion con la variable de respuesta\n",
    "X=df.drop(columns=[\"Target\",\"sex\",\"NHR\"])"
   ]
  },
  {
   "cell_type": "code",
   "execution_count": 91,
   "metadata": {
    "id": "0FRQwnZmFnKn"
   },
   "outputs": [],
   "source": [
    "y=df[\"Target\"]"
   ]
  },
  {
   "cell_type": "markdown",
   "metadata": {
    "id": "8GYB9IxCMymo"
   },
   "source": []
  },
  {
   "cell_type": "markdown",
   "metadata": {
    "id": "ubh1gxTuMuEs"
   },
   "source": []
  }
 ],
 "metadata": {
  "colab": {
   "provenance": []
  },
  "kernelspec": {
   "display_name": "Python 3 (ipykernel)",
   "language": "python",
   "name": "python3"
  },
  "language_info": {
   "codemirror_mode": {
    "name": "ipython",
    "version": 3
   },
   "file_extension": ".py",
   "mimetype": "text/x-python",
   "name": "python",
   "nbconvert_exporter": "python",
   "pygments_lexer": "ipython3",
   "version": "3.11.5"
  }
 },
 "nbformat": 4,
 "nbformat_minor": 1
}
